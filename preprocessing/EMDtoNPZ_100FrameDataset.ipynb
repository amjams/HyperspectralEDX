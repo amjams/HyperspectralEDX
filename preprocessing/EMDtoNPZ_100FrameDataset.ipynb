{
 "cells": [
  {
   "cell_type": "markdown",
   "id": "fb498bd1-69bf-4dbb-b0aa-8d1fd8a7db47",
   "metadata": {},
   "source": [
    "## This converts the 100 frame datasets in the EMD file to multiple npz files with increasing frame count."
   ]
  },
  {
   "cell_type": "code",
   "execution_count": null,
   "id": "lucky-latter",
   "metadata": {
    "tags": []
   },
   "outputs": [],
   "source": [
    "# imports\n",
    "import numpy as np\n",
    "import hyperspy.api as hs\n",
    "import os\n",
    "import matplotlib.pyplot as plt\n",
    "\n",
    "\n",
    "# set the desired number of frames and the home directory\n",
    "frames = [i for i in range(2,102,2)] \n",
    "HomePath = r\"/path/to/directory\"   \n",
    "\n",
    "# HomePath Structure:\n",
    "# /path/to/directory\n",
    "#   |-- EMD    (contains the EMD file)\n",
    "#   |-- NPZ    (initially empty)\n",
    "\n",
    "EMDPath = os.path.join(HomePath,'EMD')\n",
    "file_names = os.listdir(EMDPath)\n",
    "file_names = [name[:-4] for name in file_names if name.endswith('emd')]\n"
   ]
  },
  {
   "cell_type": "code",
   "execution_count": null,
   "id": "final-interval",
   "metadata": {
    "tags": []
   },
   "outputs": [],
   "source": [
    "file_name = file_names[0]\n",
    "print(file_name)\n",
    "for last_frame in frames:\n",
    "    # load new file and save to numpy\n",
    "    file_path = os.path.join(EMDPath,\"%s.emd\" % file_name)\n",
    "    s = hs.load(file_path,\n",
    "                SI_dtype='uint8',\n",
    "                first_frame=1,\n",
    "                last_frame=last_frame,\n",
    "                sum_frames=True,\n",
    "                select_type = None,\n",
    "                load_SI_image_stack = True)\n",
    "    \n",
    "    # search for the right data\n",
    "    for i in range(len(s)):\n",
    "        if '(2048, 2048|4096)' in repr(s[i]):   \n",
    "            spectrum_idx = i\n",
    "        elif 'HAADF' in repr(s[i]): \n",
    "            haadf_idx = i\n",
    "    \n",
    "    haadf = s[haadf_idx].data[-1,:,:]      \n",
    "    spectrum = s[spectrum_idx].data   \n",
    "    xray_energies = s[spectrum_idx].axes_manager.signal_axes[0].axis\n",
    "\n",
    "    out_path = os.path.join(HomePath,'NPZ','%s_%03dframes.npz' % (file_name,last_frame))\n",
    "    np.savez_compressed(out_path, haadf=haadf, spectrum=spectrum,xray_energies=xray_energies)\n",
    "    print(\"Saved for %02d frames\" % last_frame)\n",
    "    #print(file_path)\n",
    "    #f,ax = plt.subplots()\n",
    "    #ax.imshow(haadf,cmap='gray_r')\n",
    "    #plt.show()\n",
    "    del haadf, spectrum, s, xray_energies\n"
   ]
  },
  {
   "cell_type": "code",
   "execution_count": null,
   "id": "aafb0ad8-efdf-4266-be0b-04e8c9803211",
   "metadata": {},
   "outputs": [],
   "source": []
  }
 ],
 "metadata": {
  "kernelspec": {
   "display_name": "Python 3 (ipykernel)",
   "language": "python",
   "name": "python3"
  },
  "language_info": {
   "codemirror_mode": {
    "name": "ipython",
    "version": 3
   },
   "file_extension": ".py",
   "mimetype": "text/x-python",
   "name": "python",
   "nbconvert_exporter": "python",
   "pygments_lexer": "ipython3",
   "version": "3.11.5"
  },
  "varInspector": {
   "cols": {
    "lenName": 16,
    "lenType": 16,
    "lenVar": 40
   },
   "kernels_config": {
    "python": {
     "delete_cmd_postfix": "",
     "delete_cmd_prefix": "del ",
     "library": "var_list.py",
     "varRefreshCmd": "print(var_dic_list())"
    },
    "r": {
     "delete_cmd_postfix": ") ",
     "delete_cmd_prefix": "rm(",
     "library": "var_list.r",
     "varRefreshCmd": "cat(var_dic_list()) "
    }
   },
   "types_to_exclude": [
    "module",
    "function",
    "builtin_function_or_method",
    "instance",
    "_Feature"
   ],
   "window_display": false
  }
 },
 "nbformat": 4,
 "nbformat_minor": 5
}
