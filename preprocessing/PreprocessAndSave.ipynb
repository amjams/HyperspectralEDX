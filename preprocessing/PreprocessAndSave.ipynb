{
 "cells": [
  {
   "cell_type": "markdown",
   "id": "b216ad94-5216-412e-8620-bf248b850f58",
   "metadata": {},
   "source": [
    "## Preprocess the data stored in the NPZ folder (for 100frame single tile dataset, or the multi-tile MAP, according to the selected directory)"
   ]
  },
  {
   "cell_type": "code",
   "execution_count": 4,
   "id": "afe3e479-e001-4187-9bb5-b19984d15f52",
   "metadata": {
    "tags": []
   },
   "outputs": [],
   "source": [
    "# imports\n",
    "\n",
    "import os\n",
    "parent_dir = os.path.abspath(os.path.join(os.getcwd(), os.pardir))\n",
    "sys.path.append(parent_dir)\n",
    "\n",
    "import sys\n",
    "import numpy as np\n",
    "from sklearn.decomposition import PCA\n",
    "import time\n",
    "import matplotlib.pyplot as plt\n",
    "from scipy.optimize import nnls \n",
    "from scipy.stats import zscore\n",
    "from datetime import datetime\n",
    "import cv2\n",
    "from sklearn.preprocessing import MinMaxScaler\n",
    "from functions_EDX import *\n",
    "from scipy import signal"
   ]
  },
  {
   "cell_type": "markdown",
   "id": "28d9ba7b-f33a-4b57-96a4-acdcdc224574",
   "metadata": {},
   "source": [
    "### Choose the directory containing the NPZ files "
   ]
  },
  {
   "cell_type": "code",
   "execution_count": 5,
   "id": "6db273c9-c004-4155-9866-6f63bc51fb8d",
   "metadata": {
    "tags": []
   },
   "outputs": [],
   "source": [
    "# load file\n",
    "file_names = os.listdir('/Volumes/Microscopy3/EDX_data/old_datasets/NPZ/')\n",
    "file_names = [name for name in file_names if name.endswith('npz')]\n",
    "file_names.sort()\n"
   ]
  },
  {
   "cell_type": "code",
   "execution_count": null,
   "id": "1a7261fc-074e-4737-b374-c66fc9588da8",
   "metadata": {
    "tags": []
   },
   "outputs": [],
   "source": [
    "# number of principal components kept\n",
    "pc_keep = 10\n",
    "\n",
    "\n",
    "# Choose the output directory to save the folder containing the preprocessed files. \n",
    "# It could be the home directory containing the EMD and NPZ files (see structure below), or a new one \n",
    "# e.g. if storage doesn't allow saving them in the same drive.\n",
    "\n",
    "# HomePath Structure:\n",
    "# /path/to/directory\n",
    "#   |-- EMD    (contains the EMD file)\n",
    "#   |-- NPZ    \n",
    "#   |-- Spectrum2D_extendedGauss1_3_5'   (the preprocessed data)\n",
    "\n",
    "\n",
    "print(\"Start time: \",datetime.now())\n",
    "\n",
    "try:\n",
    "    os.mkdir(os.path.join('/path/to/OutputDirectory','Spectrum2D_extendedGauss1_3_5'))\n",
    "except:\n",
    "    print(\"Folder exists.\")\n",
    "\n",
    "for file_idx,file_name in enumerate(file_names):\n",
    "    start = datetime.now()\n",
    "    file_path = os.path.join('/path/to/NPZdirectory',file_names[file_idx])\n",
    "    loaded_file = np.load(file_path)\n",
    "    haadf = loaded_file['haadf']\n",
    "    spectrum = loaded_file['spectrum'][:,:,96:]\n",
    "    xray_energies = loaded_file['xray_energies'][96:]\n",
    "    subsample_size = spectrum.shape[2]\n",
    "    \n",
    "    # Clean up then bin the spectrum and check if any empty channels remain\n",
    "    n_bins = 250\n",
    "\n",
    "    spectrum = rebin_spectrum(spectrum,n_bins)\n",
    "    xray_energies = rebin_energies(xray_energies,n_bins)\n",
    "    \n",
    "    # Now bin in XY\n",
    "    subsample_size = 1024\n",
    "    spectrum = rebin_spectrumXY(spectrum,subsample_size)  \n",
    "    haadf = rebin_XY(haadf,subsample_size)       \n",
    "\n",
    "    # check if there are empty channels along z\n",
    "    where_notempty = ~np.all(spectrum==0,axis=(0,1))\n",
    "    spectrum = spectrum[:,:,where_notempty]\n",
    "    spectral_depth = spectrum.shape[2]\n",
    "    spectrum_2D = np.reshape(spectrum,(subsample_size*subsample_size,spectral_depth))\n",
    "    print(\"%04d channels remain\" % spectral_depth)\n",
    "    \n",
    "    # Pre-Filter \n",
    "    spectrum = MeanFilterCube(spectrum.astype('float32'),sigma=2, size=3)\n",
    "    spectrum_2D = np.reshape(spectrum,(subsample_size*subsample_size,spectral_depth))\n",
    "    \n",
    "    # Poisson scaling\n",
    "    g = np.mean(spectrum,axis=2).reshape(subsample_size*subsample_size,1)\n",
    "    #g = np.ones(g.shape)\n",
    "    h = np.mean(np.mean(spectrum,axis=0),axis=0).reshape(spectral_depth,-1)\n",
    "    W = g@np.transpose(h)\n",
    "    W = np.sqrt(W)     \n",
    "    spectrum_2D = np.divide(spectrum_2D,W)\n",
    "    spectrum = np.reshape(spectrum_2D,(subsample_size,subsample_size,spectral_depth))\n",
    "    end = datetime.now()\n",
    "    \n",
    "    pca_partial = PCA(n_components=pc_keep)\n",
    "    X_partial= pca_partial.fit_transform(spectrum_2D)\n",
    "\n",
    "    # Inverse transform and inverse the weight\n",
    "    spectrum_2D = np.multiply(pca_partial.inverse_transform(X_partial),W)\n",
    "    \n",
    "    # Add averaged features\n",
    "    radii = [1,3,5]\n",
    "    spectrum_ext = spectrum_plus(spectrum,radii=radii,sigma=2)\n",
    "    spectrum_2D = np.dstack((spectrum,spectrum_ext)).reshape((-1,(len(radii)+1)*250))\n",
    "    del spectrum_ext\n",
    "    print(spectrum_2D.shape)\n",
    "    \n",
    "    np.savez_compressed(os.path.join('/path/to/OutputDirectory','Spectrum2D_extendedGauss1_3_5','%s_spectrum_2D.npz' % (file_name[:-4])), spectrum_2D=spectrum_2D)\n",
    "    end = datetime.now()\n",
    "    print('Duration: {}'.format(end - start))\n",
    "    print('Tile %02d finished\\n' % file_idx)\n",
    "    "
   ]
  }
 ],
 "metadata": {
  "kernelspec": {
   "display_name": "edx",
   "language": "python",
   "name": "edx"
  },
  "language_info": {
   "codemirror_mode": {
    "name": "ipython",
    "version": 3
   },
   "file_extension": ".py",
   "mimetype": "text/x-python",
   "name": "python",
   "nbconvert_exporter": "python",
   "pygments_lexer": "ipython3",
   "version": "3.11.5"
  }
 },
 "nbformat": 4,
 "nbformat_minor": 5
}
