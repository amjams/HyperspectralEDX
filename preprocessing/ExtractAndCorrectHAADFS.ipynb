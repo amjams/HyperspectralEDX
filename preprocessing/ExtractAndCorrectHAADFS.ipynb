{
 "cells": [
  {
   "cell_type": "markdown",
   "id": "2a429550-c69f-4e14-8aad-bcb023817ed9",
   "metadata": {},
   "source": [
    "## Extract the HAADFs, equalize medians and normalize them (1/99%)"
   ]
  },
  {
   "cell_type": "code",
   "execution_count": null,
   "id": "f5d82980-48be-4537-94f8-23d5950f6d75",
   "metadata": {},
   "outputs": [],
   "source": [
    "# imports\n",
    "\n",
    "import os\n",
    "import sys\n",
    "parent_dir = os.path.abspath(os.path.join(os.getcwd(), os.pardir))\n",
    "sys.path.append(parent_dir)\n",
    "\n",
    "from datetime import datetime\n",
    "import numpy as np\n",
    "import tifffile as tf\n",
    "import time\n",
    "from functions_EDX import *\n",
    "import gc"
   ]
  },
  {
   "cell_type": "markdown",
   "id": "272f8cb7-3a6e-4237-bb87-2580752c4fb4",
   "metadata": {},
   "source": [
    "### Choose the directory containing the NPZ files"
   ]
  },
  {
   "cell_type": "code",
   "execution_count": null,
   "id": "3c5130a5-e212-467c-a4bc-e870c9970e14",
   "metadata": {},
   "outputs": [],
   "source": [
    "# Choose the output directory to save the folder containing the processed EM images. \n",
    "# It could be the home directory containing the EMD and NPZ files (see structure below), or a new one \n",
    "# e.g. if storage doesn't allow saving them in the same drive.\n",
    "\n",
    "# HomePath Structure:\n",
    "# /path/to/directory\n",
    "#   |-- EMD    (contains the EMD file)\n",
    "#   |-- NPZ    \n",
    "#   |-- HAADFS   (the preprocessed data, optional can be defined by OutPath)\n",
    "\n",
    "HomePath = r\"/path/to/directory\" \n",
    "OutPath = HomePath\n",
    "\n",
    "lower_percentile = 0.5 # 1 for 30 tileset\n",
    "upper_percentile = 99.5 # 99 for 30 tileset"
   ]
  },
  {
   "cell_type": "code",
   "execution_count": null,
   "id": "85d23a0b-db77-402e-8c21-8fc4bbb34ea6",
   "metadata": {},
   "outputs": [],
   "source": [
    "print(\"Start time: \",datetime.now())\n",
    "\n",
    "# find files\n",
    "file_names = os.listdir(os.path.join(HomePath,'NPZ'))\n",
    "file_names = [name for name in file_names if name.endswith('npz')]\n",
    "file_names.sort()\n",
    "\n",
    "# make export directory if necessary\n",
    "try:\n",
    "    os.mkdir(os.path.join(OutPath,'HAADFs'))\n",
    "except:\n",
    "    print(\"Folder exists.\")\n",
    "\n",
    "# create empty lists\n",
    "haadfs, medians = [], []\n",
    "\n",
    "# load HAADFs\n",
    "for file_idx,file_name in enumerate(file_names):\n",
    "    start = datetime.now()\n",
    "    file_path = os.path.join(HomePath,'NPZ',file_names[file_idx])\n",
    "    loaded_file = np.load(file_path)\n",
    "    haadf = loaded_file['haadf']\n",
    "    haadfs.append(haadf)\n",
    "    medians.append(int(np.median(haadf)))\n",
    "    del loaded_file, haadf\n",
    "    gc.collect()\n",
    "\n",
    "# calculate shift from median and correct each HAADF individually\n",
    "cf = medians - np.min(medians)\n",
    "for i in range(len(haadfs)):\n",
    "    haadfs[i] = haadfs[i] - cf[i]  \n",
    "    \n",
    "# normalize HAADFs, with saturation of bottom and top 1%\n",
    "n_range = np.percentile(haadfs, upper_percentile) - np.percentile(haadfs, lower_percentile)\n",
    "haadfs = ((haadfs - np.percentile(haadfs, lower_percentile)) / (n_range))\n",
    "haadfs = np.where(haadfs < 0, 0, haadfs)\n",
    "haadfs = np.where(haadfs > 1, 1, haadfs)\n",
    "\n",
    "# binning\n",
    "haadfs = haadfs.reshape(haadfs.shape[0], \n",
    "               int(haadfs.shape[1]/2),\n",
    "               2,\n",
    "               int(haadfs.shape[2]/2),\n",
    "               2).mean(axis=4).mean(axis=2)\n",
    "\n",
    "# convert to 8-bit & invert \n",
    "haadfs = np.invert((haadfs*255).astype('uint8'))\n",
    "\n",
    "# export\n",
    "for i in range(len(haadfs)):\n",
    "    tf.imwrite(os.path.join(OutPath,'HAADFs','Tile_%02d.tiff' % (i)), haadfs[i])\n",
    "\n",
    "end = datetime.now()\n",
    "print('Duration: {}'.format(end - start))"
   ]
  }
 ],
 "metadata": {
  "kernelspec": {
   "display_name": "Python 3 (ipykernel)",
   "language": "python",
   "name": "python3"
  },
  "language_info": {
   "codemirror_mode": {
    "name": "ipython",
    "version": 3
   },
   "file_extension": ".py",
   "mimetype": "text/x-python",
   "name": "python",
   "nbconvert_exporter": "python",
   "pygments_lexer": "ipython3",
   "version": "3.11.5"
  }
 },
 "nbformat": 4,
 "nbformat_minor": 5
}
