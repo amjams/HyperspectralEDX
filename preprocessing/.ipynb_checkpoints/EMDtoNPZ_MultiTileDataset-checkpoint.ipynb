{
 "cells": [
  {
   "cell_type": "markdown",
   "id": "fb498bd1-69bf-4dbb-b0aa-8d1fd8a7db47",
   "metadata": {},
   "source": [
    "## This converts the multi-tile datasets from EMD files to npz (numpy) files that contain the spectrum array, the HAADF (EM) image and the xray_energies."
   ]
  },
  {
   "cell_type": "code",
   "execution_count": null,
   "id": "lucky-latter",
   "metadata": {
    "tags": []
   },
   "outputs": [],
   "source": [
    "# imports\n",
    "import numpy as np\n",
    "import hyperspy.api as hs\n",
    "import os\n",
    "import matplotlib.pyplot as plt\n",
    "\n",
    "\n",
    "# set the desired number of frames (a list) and the home directory\n",
    "frames = [20]\n",
    "HomePath = \"/path/to/directory\"   \n",
    "\n",
    "# HomePath Structure:\n",
    "# /path/to/directory\n",
    "#   |-- EMD    (contains the EMD file)\n",
    "#   |-- NPZ    (initially empty)\n",
    "\n",
    "EMDPath = os.path.join(HomePath,'EMD')\n",
    "file_names = os.listdir(EMDPath)\n",
    "file_names = [name[:-4] for name in file_names if name.endswith('emd')]\n"
   ]
  },
  {
   "cell_type": "code",
   "execution_count": null,
   "id": "final-interval",
   "metadata": {
    "tags": []
   },
   "outputs": [],
   "source": [
    "file_name = file_names[0]\n",
    "print(file_name)\n",
    "for last_frame in frames:\n",
    "    # load new file and save to numpy\n",
    "    file_path = os.path.join(EMDPath,\"%s.emd\" % file_name)\n",
    "    s = hs.load(file_path,SI_dtype='uint8',first_frame=1,last_frame=last_frame,sum_frames=True,select_type = None)\n",
    "    \n",
    "    # search for the right data\n",
    "    for i in range(len(s)):\n",
    "        if '(2048, 2048|4096)' in repr(s[i]):   \n",
    "            spectrum_idx = i\n",
    "        elif 'HAADF' in repr(s[i]): \n",
    "            haadf_idx = i\n",
    "    \n",
    "    haadf = s[haadf_idx].data       \n",
    "    spectrum = s[spectrum_idx].data   \n",
    "    xray_energies = s[spectrum_idx].axes_manager.signal_axes[0].axis\n",
    "\n",
    "    out_path = os.path.join(HomePath,'NPZ','%s_%03dframes.npz' % (file_name,last_frame))\n",
    "    np.savez_compressed(out_path, haadf=haadf, spectrum=spectrum,xray_energies=xray_energies)\n",
    "    print(\"Saved for %02d frames\" % last_frame)\n",
    "    #print(file_path)\n",
    "    #f,ax = plt.subplots()\n",
    "    #ax.imshow(haadf,cmap='gray_r')\n",
    "    #plt.show()\n",
    "    del haadf, spectrum, s, xray_energies\n"
   ]
  }
 ],
 "metadata": {
  "kernelspec": {
   "display_name": "edx",
   "language": "python",
   "name": "edx"
  },
  "language_info": {
   "codemirror_mode": {
    "name": "ipython",
    "version": 3
   },
   "file_extension": ".py",
   "mimetype": "text/x-python",
   "name": "python",
   "nbconvert_exporter": "python",
   "pygments_lexer": "ipython3",
   "version": "3.11.5"
  },
  "varInspector": {
   "cols": {
    "lenName": 16,
    "lenType": 16,
    "lenVar": 40
   },
   "kernels_config": {
    "python": {
     "delete_cmd_postfix": "",
     "delete_cmd_prefix": "del ",
     "library": "var_list.py",
     "varRefreshCmd": "print(var_dic_list())"
    },
    "r": {
     "delete_cmd_postfix": ") ",
     "delete_cmd_prefix": "rm(",
     "library": "var_list.r",
     "varRefreshCmd": "cat(var_dic_list()) "
    }
   },
   "types_to_exclude": [
    "module",
    "function",
    "builtin_function_or_method",
    "instance",
    "_Feature"
   ],
   "window_display": false
  }
 },
 "nbformat": 4,
 "nbformat_minor": 5
}
