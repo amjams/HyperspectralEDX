{
 "cells": [
  {
   "cell_type": "markdown",
   "id": "fdc079fd-1104-499b-bc92-2a540771d4c6",
   "metadata": {},
   "source": [
    "# Figure 4 - Spectral Unmixing + SAM Segmentation"
   ]
  },
  {
   "cell_type": "code",
   "execution_count": 28,
   "id": "4ec3c4d3-dc3b-47e3-ae06-36f880b6c19a",
   "metadata": {},
   "outputs": [
    {
     "name": "stdout",
     "output_type": "stream",
     "text": [
      "PyTorch version: 2.3.0\n",
      "CUDA is available: False\n"
     ]
    }
   ],
   "source": [
    "# import modules\n",
    "import sys\n",
    "from numba.core.errors import NumbaDeprecationWarning, NumbaPendingDeprecationWarning\n",
    "import warnings\n",
    "import os\n",
    "import tifffile as tf\n",
    "from skimage.morphology import disk, binary_dilation, binary_erosion\n",
    "\n",
    "warnings.simplefilter('ignore', category=NumbaDeprecationWarning)\n",
    "warnings.simplefilter('ignore', category=NumbaPendingDeprecationWarning)\n",
    "parent_dir = os.path.abspath(os.path.join(os.getcwd(), os.pardir))\n",
    "sys.path.append(parent_dir)\n",
    "from functions_EDX import *\n",
    "\n",
    "import torch\n",
    "print(\"PyTorch version:\", torch.__version__)\n",
    "print(\"CUDA is available:\", torch.cuda.is_available())\n",
    "from skimage.filters import gaussian \n",
    "#from segment_anything_hq import sam_model_registry, SamAutomaticMaskGenerator, SamPredictor\n",
    "from segment_anything import SamAutomaticMaskGenerator, sam_model_registry, SamPredictor\n",
    "from skimage.feature import peak_local_max\n",
    "\n"
   ]
  },
  {
   "cell_type": "markdown",
   "id": "fee59301-1285-44ce-ad34-51557e53e8e1",
   "metadata": {},
   "source": [
    "### Set variables"
   ]
  },
  {
   "cell_type": "code",
   "execution_count": 10,
   "id": "7a7efb51-9360-460d-b8f0-f64816c6fa3a",
   "metadata": {},
   "outputs": [],
   "source": [
    "HomePath = r'D:\\Projects\\IDENTIFY\\Data\\Figure 3'\n",
    "# HomePath Structure:\n",
    "# /path/to/directory\n",
    "#   |-- PaCMAP_instance\n",
    "#   |-- HAADFS (Exported using preprocessing/ExtractAndCorrectHAADFS)\n",
    "\n",
    "supp_file_path = os.path.join(HomePath, \"PaCMAP_instance\", \"pacmap_panc_euc_20percent_SavedTree20240209-105636.npz\")\n",
    "\n",
    "haadf_folder = os.path.join(HomePath, 'HAADFs')\n",
    "\n",
    "\n",
    "sam_checkpoint = r\"D:\\Projects\\IDENTIFY\\SAM\\sam_vit_h_4b8939.pth\"\n",
    "model_type = \"vit_h\""
   ]
  },
  {
   "cell_type": "markdown",
   "id": "26707ef8-b2e4-4690-bf36-a478a8019025",
   "metadata": {},
   "source": [
    "### functions"
   ]
  },
  {
   "cell_type": "code",
   "execution_count": 11,
   "id": "542a870b-320b-4c6e-b194-7b49b4b5bc62",
   "metadata": {},
   "outputs": [],
   "source": [
    "# sub-routine to get file names\n",
    "def get_file_paths(spectrum_folder):\n",
    "    file_names = []\n",
    "    tmp = os.listdir(spectrum_folder)\n",
    "    for filename in tmp:\n",
    "        if filename.endswith('.npz'):\n",
    "            file_names.append(filename)\n",
    "    \n",
    "    file_names = sorted(file_names)\n",
    "    files = [os.path.join(spectrum_folder,file_name) for file_name in file_names]\n",
    "    return files\n",
    "\n",
    "def show_mask(mask, ax, random_color=False,alpha=0.35):\n",
    "    if random_color:\n",
    "        color = np.concatenate([np.random.random(3), np.array([0.6])], axis=0)\n",
    "    else:\n",
    "        color = np.array([30/255, 144/255, 255/255, alpha])\n",
    "    h, w = mask.shape[-2:]\n",
    "    mask_image = mask.reshape(h, w, 1) * color.reshape(1, 1, -1)\n",
    "    ax.imshow(mask_image)\n",
    "    \n",
    "def show_points(coords, labels, ax, marker_size=200):\n",
    "    pos_points = coords[labels==1]\n",
    "    neg_points = coords[labels==0]\n",
    "    ax.scatter(pos_points[:, 0], pos_points[:, 1], color='green', marker='o', s=marker_size, edgecolor='white', linewidth=1.25)\n",
    "    ax.scatter(neg_points[:, 0], neg_points[:, 1], color='red', marker='o', s=marker_size, edgecolor='white', linewidth=1.25)   "
   ]
  },
  {
   "cell_type": "markdown",
   "id": "acef5c3f-3204-4234-ae4e-09ed83f7bc59",
   "metadata": {},
   "source": [
    "### structure indices"
   ]
  },
  {
   "cell_type": "code",
   "execution_count": 12,
   "id": "3a7ed151-9ff8-4142-88f6-3ce221be801b",
   "metadata": {},
   "outputs": [
    {
     "name": "stdout",
     "output_type": "stream",
     "text": [
      "00 - Unclassified\n",
      "01 - Insulin\n",
      "02 - Nucleic acids\n",
      "03 - Exocrine granules\n",
      "04 - PP or Ghrelin\n",
      "05 - Glucagon\n",
      "06 - Membranes\n",
      "07 - Lysosomes A\n",
      "08 - Lysosomes B\n",
      "09 - Lysosomes C\n",
      "10 - Nucleolus\n",
      "11 - Lysosomes D\n"
     ]
    }
   ],
   "source": [
    "structure_names = ['Unclassified','Insulin','Nucleic acids','Exocrine granules','PP or Ghrelin','Glucagon',\n",
    "              'Membranes','Lysosomes A','Lysosomes B','Lysosomes C','Nucleolus','Lysosomes D']\n",
    "\n",
    "# print structure indices\n",
    "for idx, structure in enumerate(structure_names):\n",
    "    print(\"%02d - %s\" % (idx,structure))"
   ]
  },
  {
   "cell_type": "markdown",
   "id": "0f21b930-0813-4045-8c44-8c6bbb1aa358",
   "metadata": {},
   "source": [
    "### Load ColorEM data"
   ]
  },
  {
   "cell_type": "code",
   "execution_count": 14,
   "id": "6f419ebe-f9a5-4c0c-b6c0-8058bda6f326",
   "metadata": {},
   "outputs": [],
   "source": [
    "# choose a tile and a structure to segment\n",
    "tile_indices = [i for i in range(30)]\n",
    "#tile_idx = 4\n",
    "structure_indices = [1, 2, 3, 4, 5]\n",
    "tresholds = [0.4, 0.5, 0.4, 0.4, 0.4]\n",
    "\n",
    "\n",
    "abundance_maps = np.load(supp_file_path)['abundance_maps']\n",
    "abundance_maps = abundance_maps / np.max(abundance_maps) # Scale to have max coefficient = 1\n",
    "colors = np.load(supp_file_path)['colors']\n",
    "colors[0] = [0,0,0]\n",
    "\n",
    "# get HAADF img\n",
    "haadf_stack = []\n",
    "for i in tile_indices:\n",
    "    haadf_stack.append(tf.imread(os.path.join(haadf_folder, \"Tile_%02d.tiff\" % i)))\n",
    "haadf_stack = np.asarray(haadf_stack).transpose((1,2,0))\n",
    "    \n",
    "#spectrum_folder = '/Volumes/Microscopy3/EDX_data/Identify/main_mosaic_6by5/NPZ/'\n",
    "#files = get_file_paths(spectrum_folder)\n",
    "#haadf = rebin_XY(np.load(files[tile_idx])['haadf'],1024)"
   ]
  },
  {
   "cell_type": "markdown",
   "id": "b321d583-47f0-4c42-9806-d720b02fc120",
   "metadata": {},
   "source": [
    "### Pre-process abundance maps"
   ]
  },
  {
   "cell_type": "code",
   "execution_count": null,
   "id": "b12b331a-645c-4acd-b3bc-4fc23b05aeef",
   "metadata": {},
   "outputs": [],
   "source": [
    "for c, structure_idx in enumerate(structure_indices):\n",
    "    for tile_idx in tile_indices:\n",
    "        img = gaussian(abundance_maps[structure_idx,:,:,tile_idx], 4)\n",
    "        img = img* (img>tresholds[c])\n",
    "        abundance_maps[structure_idx,:,:,tile_idx] = img     "
   ]
  },
  {
   "cell_type": "markdown",
   "id": "46422fd2-ca73-4d86-af33-9780e8fc4f3f",
   "metadata": {},
   "source": [
    "### Apply SAM to all tiles for each structure and save as arrays"
   ]
  },
  {
   "cell_type": "code",
   "execution_count": null,
   "id": "d283012f-5b98-47eb-b659-1ef2756b50d8",
   "metadata": {},
   "outputs": [],
   "source": [
    "device = torch.device('cuda' if torch.cuda.is_available() else 'cpu')\n",
    "sam = sam_model_registry[model_type](checkpoint=sam_checkpoint)\n",
    "sam.to(device=device)\n",
    "predictor = SamPredictor(sam)\n",
    "\n",
    "try:\n",
    "    os.mkdir(os.path.join(HomePath, 'SAM Masks'))\n",
    "except:\n",
    "    pass\n",
    "\n",
    "for structure_idx in structure_indices:\n",
    "    print(f'Starting {structure_names[structure_idx]}', end = '\\n') \n",
    "    try:\n",
    "        os.mkdir(os.path.join(HomePath, 'SAM Masks', structure_names[structure_idx]))\n",
    "    except:\n",
    "        pass\n",
    "    print('Tile: ', end = '\\t')\n",
    "    for tile_idx in tile_indices:\n",
    "        print(f'{tile_idx} ', end = '\\t')\n",
    "        img = normalize8(haadf_stack[:,:,tile_idx])\n",
    "        coordinates = peak_local_max(abundance_maps[structure_idx,:,:,tile_idx], min_distance=10)\n",
    "        all_masks = []\n",
    "        all_scores = []\n",
    "        predictor.set_image(np.dstack((img,img,img)))\n",
    "        for i in range(coordinates.shape[0]):\n",
    "            input_point = np.array([(coordinates[i][1],coordinates[i][0])])\n",
    "            input_label = np.array([1])\n",
    "        \n",
    "            masks, scores, logits = predictor.predict(\n",
    "                point_coords=input_point,\n",
    "                point_labels=input_label,\n",
    "                multimask_output=True,\n",
    "            )\n",
    "            all_masks.append(masks)\n",
    "            all_scores.append(scores)\n",
    "        masks_1, masks_2, masks_3 = [], [], []\n",
    "        for i in range(len(all_masks)):\n",
    "            masks_1.append(all_masks[i][0])\n",
    "            masks_2.append(all_masks[i][1])\n",
    "            masks_3.append(all_masks[i][2])\n",
    "        masks_1, masks_2, masks_3, scores = np.asarray(masks_1), np.asarray(masks_2), np.asarray(masks_3), np.asarray(all_scores)\n",
    "        np.savez_compressed(os.path.join(HomePath, 'SAM Masks', structure_names[structure_idx],'Tile_%02d.npz' % (tile_idx)),\n",
    "                            masks_1 = masks_1,\n",
    "                            masks_2 = masks_2,\n",
    "                            masks_3 = masks_3,\n",
    "                            scores = scores)\n",
    "    print('Done', end = '\\n')\n",
    "                "
   ]
  },
  {
   "cell_type": "markdown",
   "id": "6b8840f2-b1db-4dc9-a73a-26dc42042b30",
   "metadata": {},
   "source": [
    "### Load arrays and convert to individual tiffs with black background"
   ]
  },
  {
   "cell_type": "code",
   "execution_count": null,
   "id": "c5149e9f-c992-4f39-9d6b-38e161ee7407",
   "metadata": {},
   "outputs": [],
   "source": [
    "mask_folder = os.path.join(HomePath, 'SAM Masks')\n",
    "mask_name = 'masks_1'\n",
    "\n",
    "try:\n",
    "    os.mkdir(os.path.join(HomePath, 'SAM Tiffs'))\n",
    "except:\n",
    "    pass\n",
    "\n",
    "try:\n",
    "    os.mkdir(os.path.join(HomePath, 'SAM Tiffs', 'Individual'))\n",
    "except:\n",
    "    pass\n",
    "\n",
    "for structure_idx in structure_indices:\n",
    "    print(f'Converting {structure_names[structure_idx]}', end = '\\n')\n",
    "    try:\n",
    "        os.mkdir(os.path.join(HomePath, 'SAM Tiffs', 'Individual', structure_names[structure_idx] + f' {mask_name}')) # With overlay!\n",
    "    except:\n",
    "        pass\n",
    "    print('Tile: ', end = '\\t')\n",
    "    for tile_idx in tile_indices:\n",
    "        print(f'{tile_idx} ', end = '\\t')\n",
    "        img = np.zeros((haadf_stack.shape[0], haadf_stack.shape[1], 3))\n",
    "        mask = np.load(os.path.join(mask_folder, structure_names[structure_idx],'Tile_%02d.npz' % (tile_idx)))[mask_name]\n",
    "        for m in mask:\n",
    "            img[m,0], img[m,1], img[m,2] = colors[structure_idx][0], colors[structure_idx][1], colors[structure_idx][2]\n",
    "        tf.imwrite(os.path.join(HomePath,'SAM Tiffs', 'Individual', structure_names[structure_idx] + f' {mask_name}','Tile_%02d.tiff' % (tile_idx)), (img*255).astype('uint8'))\n",
    "    print('Done', end = '\\n')\n",
    "    \n"
   ]
  },
  {
   "cell_type": "markdown",
   "id": "9bb4abc2-c318-4ca4-aa60-09411c40b62d",
   "metadata": {},
   "source": [
    "### Load arrays and convert to individual tiffs with HAADF background"
   ]
  },
  {
   "cell_type": "code",
   "execution_count": null,
   "id": "26e22957-ccc2-4786-a4e0-e41ffb4e3f13",
   "metadata": {},
   "outputs": [],
   "source": [
    "mask_folder = os.path.join(HomePath, 'SAM Masks')\n",
    "mask_name = 'masks_1'\n",
    "alpha = 0.35\n",
    "\n",
    "try:\n",
    "    os.mkdir(os.path.join(HomePath, 'SAM Tiffs'))\n",
    "except:\n",
    "    pass\n",
    "\n",
    "try:\n",
    "    os.mkdir(os.path.join(HomePath, 'SAM Tiffs', 'Individual (HAADF Overlay)'))\n",
    "except:\n",
    "    pass\n",
    "\n",
    "for structure_idx in structure_indices:\n",
    "    print(f'Converting {structure_names[structure_idx]}', end = '\\n')\n",
    "    try:\n",
    "        os.mkdir(os.path.join(HomePath, 'SAM Tiffs', 'Individual (HAADF Overlay)', structure_names[structure_idx] + f' {mask_name}')) \n",
    "    except:\n",
    "        pass\n",
    "    print('Tile: ', end = '\\t')\n",
    "    for tile_idx in tile_indices:\n",
    "        print(f'{tile_idx} ', end = '\\t')\n",
    "        img = np.zeros((haadf_stack.shape[0], haadf_stack.shape[1], 3))\n",
    "        haadf_img = np.dstack((haadf_stack[:,:,tile_idx], haadf_stack[:,:,tile_idx], haadf_stack[:,:,tile_idx]))/255\n",
    "        mask = np.load(os.path.join(mask_folder, structure_names[structure_idx],'Tile_%02d.npz' % (tile_idx)))[mask_name]\n",
    "        for m in mask:\n",
    "            img[m,0], img[m,1], img[m,2] = colors[structure_idx][0], colors[structure_idx][1], colors[structure_idx][2]  \n",
    "        img = (alpha * img) + ((1-alpha)*haadf_img)\n",
    "        tf.imwrite(os.path.join(HomePath, 'SAM Tiffs', 'Individual (HAADF Overlay)', structure_names[structure_idx] + f' {mask_name}','Tile_%02d.tiff' % (tile_idx)), (img*255).astype('uint8'))\n",
    "    print('Done', end = '\\n')"
   ]
  },
  {
   "cell_type": "markdown",
   "id": "84c6d9a1-76d3-4905-b84c-a3c68d037c1a",
   "metadata": {},
   "source": [
    "### Load arrays and convert to combined tiffs with black background"
   ]
  },
  {
   "cell_type": "code",
   "execution_count": null,
   "id": "178a6038-d265-4b51-9871-8a914c915cd0",
   "metadata": {},
   "outputs": [],
   "source": [
    "mask_folder = os.path.join(HomePath, 'SAM Masks')\n",
    "mask_name = 'masks_1'\n",
    "\n",
    "try:\n",
    "    os.mkdir(os.path.join(HomePath, 'SAM Tiffs'))\n",
    "except:\n",
    "    pass\n",
    "\n",
    "try:\n",
    "    os.mkdir(os.path.join(HomePath, 'SAM Tiffs', f'Combined + {mask_name}'))\n",
    "except:\n",
    "    pass\n",
    "\n",
    "for tile_idx in tile_indices:\n",
    "        print(f'Converting tile {tile_idx}', end = '\\t')\n",
    "        img = np.zeros((haadf_stack.shape[0], haadf_stack.shape[1], 3))\n",
    "        for structure_idx in structure_indices:\n",
    "            mask = np.load(os.path.join(mask_folder, structure_names[structure_idx],'Tile_%02d.npz' % (tile_idx)))[mask_name]\n",
    "            bin_mask = np.zeros((1024,1024),dtype='bool')\n",
    "            for m in mask:  \n",
    "                bin_mask[m] = 1\n",
    "                \n",
    "            # dilate for the nucleic acid masks (optional)\n",
    "            if structure_idx == 2:\n",
    "                radius = 70 if tile_idx == 16 else 20\n",
    "                bin_mask = binary_dilation(bin_mask, disk(radius, dtype=bool))\n",
    "                bin_mask = binary_erosion(bin_mask, disk(radius, dtype=bool))\n",
    "\n",
    "            # color\n",
    "            img[bin_mask,0], img[bin_mask,1], img[bin_mask,2] = colors[structure_idx][0], colors[structure_idx][1], colors[structure_idx][2]\n",
    "        tf.imwrite(os.path.join(HomePath, 'SAM Tiffs', f'Combined + {mask_name}','Tile_%02d.tiff' % (tile_idx)), (img*255).astype('uint8'))\n",
    "        print('Done', end = '\\n')"
   ]
  },
  {
   "cell_type": "markdown",
   "id": "0712bd51-7fce-4fa1-a346-ef58fda2f1af",
   "metadata": {},
   "source": [
    "### Load arrays and convert to combined tiffs with HAADF background"
   ]
  },
  {
   "cell_type": "code",
   "execution_count": null,
   "id": "d3d084af-9a3f-4f21-a76c-c08f7dcf6c39",
   "metadata": {},
   "outputs": [],
   "source": [
    "mask_folder = os.path.join(HomePath, 'SAM Masks')\n",
    "mask_name = 'masks_1'\n",
    "alpha = 0.35\n",
    "\n",
    "try:\n",
    "    os.mkdir(os.path.join(HomePath, 'SAM Tiffs'))\n",
    "except:\n",
    "    pass\n",
    "\n",
    "try:\n",
    "    os.mkdir(os.path.join(HomePath, 'SAM Tiffs', f'Combined + {mask_name} (HAADF Overlay)'))\n",
    "except:\n",
    "    pass\n",
    "\n",
    "for tile_idx in tile_indices:\n",
    "        print(f'Converting tile {tile_idx}', end = '\\t')\n",
    "        img = np.zeros((haadf_stack.shape[0], haadf_stack.shape[1], 3))\n",
    "        haadf_img = np.dstack((haadf_stack[:,:,tile_idx], haadf_stack[:,:,tile_idx], haadf_stack[:,:,tile_idx]))/255\n",
    "        for structure_idx in structure_indices:\n",
    "            mask = np.load(os.path.join(mask_folder, structure_names[structure_idx],'Tile_%02d.npz' % (tile_idx)))[mask_name]\n",
    "            bin_mask = np.zeros((1024,1024),dtype='bool')\n",
    "            for m in mask:  \n",
    "                bin_mask[m] = 1\n",
    "                \n",
    "            # dilate for the nucleic acid masks (optional)\n",
    "            if structure_idx == 2:\n",
    "                radius = 70 if tile_idx == 16 else 20\n",
    "                bin_mask = binary_dilation(bin_mask, disk(radius, dtype=bool))\n",
    "                bin_mask = binary_erosion(bin_mask, disk(radius, dtype=bool))\n",
    "\n",
    "            # color\n",
    "            img[bin_mask,0], img[bin_mask,1], img[bin_mask,2] = colors[structure_idx][0], colors[structure_idx][1], colors[structure_idx][2]\n",
    "            \n",
    "        img = (alpha * img) + ((1-alpha)*haadf_img)\n",
    "        tf.imwrite(os.path.join(HomePath, 'SAM Tiffs', f'Combined + {mask_name} (HAADF Overlay)','Tile_%02d.tiff' % (tile_idx)), (img*255).astype('uint8'))\n",
    "        print('Done', end = '\\n')"
   ]
  },
  {
   "cell_type": "code",
   "execution_count": 41,
   "id": "f94de332-8c88-4140-a666-8507226bd2c2",
   "metadata": {},
   "outputs": [
    {
     "data": {
      "text/plain": [
       "(1024, 1024)"
      ]
     },
     "execution_count": 41,
     "metadata": {},
     "output_type": "execute_result"
    }
   ],
   "source": [
    "m.shape"
   ]
  },
  {
   "cell_type": "code",
   "execution_count": null,
   "id": "8ec5f366-f32b-4eae-ad2b-5b3d2f637be2",
   "metadata": {},
   "outputs": [],
   "source": []
  }
 ],
 "metadata": {
  "kernelspec": {
   "display_name": "edx",
   "language": "python",
   "name": "edx"
  },
  "language_info": {
   "codemirror_mode": {
    "name": "ipython",
    "version": 3
   },
   "file_extension": ".py",
   "mimetype": "text/x-python",
   "name": "python",
   "nbconvert_exporter": "python",
   "pygments_lexer": "ipython3",
   "version": "3.11.8"
  }
 },
 "nbformat": 4,
 "nbformat_minor": 5
}
