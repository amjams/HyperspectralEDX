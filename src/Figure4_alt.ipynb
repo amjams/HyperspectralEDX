{
 "cells": [
  {
   "cell_type": "code",
   "execution_count": 3,
   "id": "3d81c762-7047-4bc3-b82f-37f88f479423",
   "metadata": {},
   "outputs": [],
   "source": [
    "# imports\n",
    "import sys\n",
    "import os\n",
    "import pickle\n",
    "parent_dir = os.path.abspath(os.path.join(os.getcwd(), os.pardir))\n",
    "sys.path.append(parent_dir)\n",
    "from functions_EDX import *\n",
    "\n",
    "from numba.core.errors import NumbaDeprecationWarning, NumbaPendingDeprecationWarning\n",
    "import warnings\n",
    "warnings.simplefilter('ignore', category=NumbaDeprecationWarning)\n",
    "warnings.simplefilter('ignore', category=NumbaPendingDeprecationWarning)\n",
    "\n",
    "import tifffile as tif\n",
    "import pacmap"
   ]
  },
  {
   "cell_type": "code",
   "execution_count": 4,
   "id": "6cbaca1b-80dc-4e9e-9401-4bcb141cd6ef",
   "metadata": {},
   "outputs": [],
   "source": [
    "# sub-routine to get file names\n",
    "def get_file_paths(spectrum_folder):\n",
    "    file_names = []\n",
    "    tmp = os.listdir(spectrum_folder)\n",
    "    for filename in tmp:\n",
    "        if filename.endswith('.npz'):\n",
    "            file_names.append(filename)\n",
    "    \n",
    "    file_names = sorted(file_names)\n",
    "    files = [os.path.join(spectrum_folder,file_name) for file_name in file_names]\n",
    "    return files"
   ]
  },
  {
   "cell_type": "markdown",
   "id": "0772ea43-571d-4dd1-99d2-1c76698e3ca4",
   "metadata": {},
   "source": [
    "### Load data"
   ]
  },
  {
   "cell_type": "code",
   "execution_count": 5,
   "id": "b1f92031-f914-4152-b139-ca93fc459cb9",
   "metadata": {},
   "outputs": [],
   "source": [
    "supp_file_path = '/Users/AJ/Desktop/PACMAP_RESULTS/Identify2/pacpam_instance/pacmap_panc_euc_20percent_SavedTree20240209-105636.npz'\n",
    "abundance_maps = np.load(supp_file_path)['abundance_maps']\n",
    "abundance_maps = abundance_maps / np.max(abundance_maps) # Scale to have max coefficient = 1\n",
    "colors = np.load(supp_file_path)['colors']\n",
    "colors[0] = [0,0,0]\n",
    "\n",
    "# choose a tile\n",
    "tile_idx = 8\n",
    "\n",
    "# location of SAM masks\n",
    "masks_path = '/Users/AJ/Desktop/work/PostDoc_UMCG/work/analysis/EDX_Project/primary_data/main_mosaic_6by5/SAM_masks/'\n",
    "\n",
    "# get HAADF img\n",
    "spectrum_folder = '/Volumes/Microscopy3/EDX_data/Identify/main_mosaic_6by5/NPZ/'\n",
    "files = get_file_paths(spectrum_folder)\n",
    "haadf = rebin_XY(np.load(files[tile_idx])['haadf'],1024)"
   ]
  },
  {
   "cell_type": "code",
   "execution_count": null,
   "id": "cb23c25d-3d2d-47a0-ae92-a36880833ff2",
   "metadata": {},
   "outputs": [],
   "source": []
  }
 ],
 "metadata": {
  "kernelspec": {
   "display_name": "edx",
   "language": "python",
   "name": "edx"
  },
  "language_info": {
   "codemirror_mode": {
    "name": "ipython",
    "version": 3
   },
   "file_extension": ".py",
   "mimetype": "text/x-python",
   "name": "python",
   "nbconvert_exporter": "python",
   "pygments_lexer": "ipython3",
   "version": "3.11.8"
  }
 },
 "nbformat": 4,
 "nbformat_minor": 5
}
